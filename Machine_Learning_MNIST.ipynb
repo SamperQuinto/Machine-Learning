{
 "cells": [
  {
   "attachments": {},
   "cell_type": "markdown",
   "metadata": {},
   "source": [
    "# Ejemplo de clasificación de imágenes usando el dataset MNIST\n",
    "\n",
    "Importamos los frameworks de tensorflow, keras y numpy"
   ]
  },
  {
   "cell_type": "code",
   "execution_count": 1,
   "metadata": {},
   "outputs": [],
   "source": [
    "import tensorflow as tf\n",
    "from tensorflow import keras\n",
    "import numpy as np\n",
    "from matplotlib import pyplot as plt\n",
    "import random"
   ]
  },
  {
   "cell_type": "markdown",
   "metadata": {},
   "source": [
    "Cargamos los datos del dataset MNIST. Este dataset consiste en una base de datos de imágenes de números escritos a manos etiquetados con el valor correcto."
   ]
  },
  {
   "cell_type": "code",
   "execution_count": 2,
   "metadata": {},
   "outputs": [],
   "source": [
    "\n",
    "# Cargar el dataset de MNIST\n",
    "# Como se ve los datos se cargan por pares:\n",
    "    # el primero son datos de entreno\n",
    "    # el segundo son datos para ocmprobar que funciona\n",
    "(x_train, y_train), (x_test, y_test) = keras.datasets.mnist.load_data()"
   ]
  },
  {
   "cell_type": "markdown",
   "metadata": {},
   "source": [
    "Examinemos las dimensiones de las variables que hemos cargado del dataset"
   ]
  },
  {
   "cell_type": "code",
   "execution_count": 3,
   "metadata": {},
   "outputs": [
    {
     "data": {
      "text/plain": [
       "(60000, 28, 28)"
      ]
     },
     "execution_count": 3,
     "metadata": {},
     "output_type": "execute_result"
    }
   ],
   "source": [
    "# Las 'x' son los input de la red neuronal: \n",
    "# 60000 imagenes de tamaño 28x28\n",
    "x_train.shape"
   ]
  },
  {
   "cell_type": "code",
   "execution_count": 4,
   "metadata": {},
   "outputs": [
    {
     "data": {
      "text/plain": [
       "(60000,)"
      ]
     },
     "execution_count": 4,
     "metadata": {},
     "output_type": "execute_result"
    }
   ],
   "source": [
    "# Las 'y' son los outputs de la red neuronal:\n",
    "# 60000 numeros que serian como la traduccion de las imagenes\n",
    "y_train.shape"
   ]
  },
  {
   "cell_type": "code",
   "execution_count": 5,
   "metadata": {},
   "outputs": [
    {
     "data": {
      "text/plain": [
       "(10000, 28, 28)"
      ]
     },
     "execution_count": 5,
     "metadata": {},
     "output_type": "execute_result"
    }
   ],
   "source": [
    "x_test.shape"
   ]
  },
  {
   "cell_type": "code",
   "execution_count": 6,
   "metadata": {},
   "outputs": [
    {
     "data": {
      "text/plain": [
       "(10000,)"
      ]
     },
     "execution_count": 6,
     "metadata": {},
     "output_type": "execute_result"
    }
   ],
   "source": [
    "y_test.shape"
   ]
  },
  {
   "cell_type": "code",
   "execution_count": 7,
   "metadata": {},
   "outputs": [
    {
     "data": {
      "image/png": "[encoded data removed]",
      "text/plain": [
       "<Figure size 432x288 with 1 Axes>"
      ]
     },
     "metadata": {
      "needs_background": "light"
     },
     "output_type": "display_data"
    }
   ],
   "source": [
    "# Reestructuro datos de la imagen para visualizarla como imagen\n",
    "\n",
    "# Toma la primera imagen del dataset de entrenamiento\n",
    "first_image = x_train[0]\n",
    "\n",
    "# Defino la imagen como un vector de pixeles\n",
    "first_image = np.array(first_image, dtype='float')\n",
    "\n",
    "# Digo la estructura de esos pixeles en el vector\n",
    "pixels = first_image.reshape((28, 28))\n",
    "\n",
    "# Pinto los pixeles\n",
    "plt.imshow(pixels, cmap='gray')\n",
    "\n",
    "# Muestra la imagen\n",
    "plt.show()"
   ]
  },
  {
   "cell_type": "code",
   "execution_count": 116,
   "metadata": {},
   "outputs": [
    {
     "data": {
      "text/plain": [
       "5"
      ]
     },
     "execution_count": 116,
     "metadata": {},
     "output_type": "execute_result"
    }
   ],
   "source": [
    "# Compruebo el output de la imagen de prueba\n",
    "y_train[0]"
   ]
  },
  {
   "attachments": {},
   "cell_type": "markdown",
   "metadata": {},
   "source": [
    "Primero normalizamos los datos que estaban de 0 a 255 y los ponemos entre 0 y 1"
   ]
  },
  {
   "cell_type": "code",
   "execution_count": 9,
   "metadata": {},
   "outputs": [],
   "source": [
    "# Los pixeles pueden tener un valor entre 0 (negro) y 255 (blanco)\n",
    "# Normalizar valores de datasets es un estandar para la posterior comparativa \n",
    "\n",
    "x_train = x_train.astype('float32') / 255.0\n",
    "x_test = x_test.astype('float32') / 255.0\n"
   ]
  },
  {
   "attachments": {},
   "cell_type": "markdown",
   "metadata": {},
   "source": [
    "**Creamos el modelo de red neuronal usando el framework de keras**"
   ]
  },
  {
   "attachments": {},
   "cell_type": "markdown",
   "metadata": {},
   "source": [
    "\n",
    "La función Sequential() crea un modelo de red neuronal secuencial, donde las capas se apilan una encima de la otra en secuencia.\n",
    "\n",
    "En este modelo, hay tres capas:\n",
    "\n",
    "**Flatten()** es la capa de entrada y se utiliza para aplanar una imagen de 28x28 píxeles en una matriz de una dimensión de 784 píxeles. \n",
    "\n",
    "**Dense(128, activation='relu')** es una capa oculta con 128 neuronas y una función de activación ReLU. La función ReLU (Rectified \n",
    "Linear Unit) se utiliza comúnmente en capas ocultas para introducir no linealidad en la red y mejorar su capacidad de aprendizaje. \n",
    "\n",
    "**Dense(10, activation='softmax')** es la capa de salida con 10 neuronas y una función de activación softmax. La función softmax se utiliza en la capa de salida de una red neuronal para producir una distribución   de probabilidad sobre las clases de salida. "
   ]
  },
  {
   "cell_type": "code",
   "execution_count": 10,
   "metadata": {},
   "outputs": [],
   "source": [
    "\n",
    "# Crear el modelo de red neuronal\n",
    "model = keras.Sequential([\n",
    "    keras.layers.Flatten(input_shape=(28, 28)),\n",
    "    keras.layers.Dense(128, activation='relu'),\n",
    "    keras.layers.Dense(10, activation='softmax')\n",
    "])"
   ]
  },
  {
   "attachments": {},
   "cell_type": "markdown",
   "metadata": {},
   "source": [
    "**Compilamos el modelo con el optimizador y la función de perdidas**"
   ]
  },
  {
   "attachments": {},
   "cell_type": "markdown",
   "metadata": {},
   "source": [
    "La función **compile()** se utiliza para especificar la configuración de entrenamiento, incluyendo el optimizador, la función de coste y las métricas de evaluación.\n",
    "\n",
    "En este caso, se están utilizando los siguientes parámetros:\n",
    "\n",
    "**optimizer='adam':** el algoritmo de optimización Adam se utilizará para ajustar los pesos de la red neuronal durante el entrenamiento. Adam es un optimizador popular y efectivo para el aprendizaje profundo que ajusta las tasas de aprendizaje de cada parámetro individualmente.\n",
    "\n",
    "**loss='sparse_categorical_crossentropy':** la función de coste se utiliza para medir la diferencia entre las predicciones de la red neuronal y las etiquetas reales durante el entrenamiento. En este caso, se está utilizando la función de coste \"sparse_categorical_crossentropy\" que se utiliza para problemas de clasificación con varias clases.\n",
    "\n",
    "**metrics=['accuracy']:** se especifica que la métrica de evaluación durante el entrenamiento será la precisión (accuracy) del modelo, es decir, el porcentaje de predicciones correctas que hace la red neuronal sobre el conjunto de datos de entrenamiento."
   ]
  },
  {
   "cell_type": "code",
   "execution_count": 11,
   "metadata": {},
   "outputs": [],
   "source": [
    "\n",
    "# Compilar el modelo con el optimizador y la función de coste\n",
    "model.compile(optimizer='adam',\n",
    "              loss='sparse_categorical_crossentropy',\n",
    "              metrics=['accuracy'])"
   ]
  },
  {
   "attachments": {},
   "cell_type": "markdown",
   "metadata": {},
   "source": [
    "**Entrenamiento del modelo**"
   ]
  },
  {
   "attachments": {},
   "cell_type": "markdown",
   "metadata": {},
   "source": [
    "Este código entrena el modelo de red neuronal utilizando el conjunto de datos de entrenamiento x_train y y_train, y se realizarán 5 **epochs** (ciclos de backpropagation) de entrenamiento.\n",
    "\n",
    "La función **fit()** es utilizada en Keras para entrenar el modelo. Los parámetros de entrada de la función son:\n",
    "\n",
    "\n",
    "**x_train:** el conjunto de datos de entrenamiento que se utilizará para ajustar los pesos de la red neuronal. Este conjunto de datos debe estar en el formato adecuado para la entrada del modelo, que en este caso es una matriz 2D con dimensiones (número de muestras, tamaño de entrada).\n",
    "\n",
    "**y_train:** las etiquetas correspondientes a cada muestra en el conjunto de datos de entrenamiento. Estas etiquetas deben estar en el formato adecuado para la salida del modelo, que en este caso es una matriz 1D con valores enteros que representan las clases de salida.\n",
    "\n",
    "**epochs=5:** el número de epoch que se realizarán durante el entrenamiento. Una epoch es una pasada completa a través de todos los datos de entrenamiento. Por lo tanto, en este caso, el modelo se entrenará durante 5 iteraciones completas.\n",
    "\n",
    "Durante el entrenamiento, el modelo ajustará los pesos para minimizar la función de coste especificada en la función compile(). Después de cada epoch, se calculará la precisión del modelo en el conjunto de datos de entrenamiento utilizando la métrica especificada en la función compile()."
   ]
  },
  {
   "cell_type": "code",
   "execution_count": 12,
   "metadata": {},
   "outputs": [
    {
     "name": "stdout",
     "output_type": "stream",
     "text": [
      "Epoch 1/5\n",
      "1875/1875 [==============================] - 6s 3ms/step - loss: 0.2591 - accuracy: 0.9265\n",
      "Epoch 2/5\n",
      "1875/1875 [==============================] - 5s 3ms/step - loss: 0.1158 - accuracy: 0.9662\n",
      "Epoch 3/5\n",
      "1875/1875 [==============================] - 5s 3ms/step - loss: 0.0799 - accuracy: 0.9760\n",
      "Epoch 4/5\n",
      "1875/1875 [==============================] - 5s 3ms/step - loss: 0.0602 - accuracy: 0.9815\n",
      "Epoch 5/5\n",
      "1875/1875 [==============================] - 5s 3ms/step - loss: 0.0468 - accuracy: 0.9856\n"
     ]
    },
    {
     "data": {
      "text/plain": [
       "<keras.callbacks.History at 0x1dfc9b2b640>"
      ]
     },
     "execution_count": 12,
     "metadata": {},
     "output_type": "execute_result"
    }
   ],
   "source": [
    "\n",
    "# Entrenar el modelo\n",
    "model.fit(x_train, y_train, epochs=5)"
   ]
  },
  {
   "attachments": {},
   "cell_type": "markdown",
   "metadata": {},
   "source": [
    "**Evaluamos la precisión del modelo con la función evaluate y los datos de prueba**"
   ]
  },
  {
   "attachments": {},
   "cell_type": "markdown",
   "metadata": {},
   "source": [
    "La función **evaluate()** se utiliza para evaluar el modelo en un conjunto de datos de prueba después de que se haya entrenado. Los parámetros de entrada de la función son:\n",
    "\n",
    "**x_test:** el conjunto de datos de prueba que se utilizará para evaluar el rendimiento del modelo. Este conjunto de datos debe estar en el formato adecuado para la entrada del modelo, que en este caso es una matriz 2D con dimensiones (número de muestras, tamaño de entrada).\n",
    "\n",
    "**y_test:** las etiquetas correspondientes a cada muestra en el conjunto de datos de prueba. Estas etiquetas deben estar en el formato adecuado para la salida del modelo, que en este caso es una matriz 1D con valores enteros que representan las clases de salida.\n",
    "\n",
    "**verbose=2:** un parámetro opcional que se utiliza para especificar el nivel de detalle de la información de evaluación que se muestra durante el proceso de evaluación. En este caso, se establece en 2 para mostrar el progreso y las métricas de evaluación al final del proceso.\n",
    "\n",
    "La función **evaluate()** devuelve dos valores: test_loss y test_acc, que representan la pérdida y la precisión (accuracy) del modelo en el conjunto de datos de prueba, respectivamente."
   ]
  },
  {
   "cell_type": "code",
   "execution_count": 13,
   "metadata": {},
   "outputs": [
    {
     "name": "stdout",
     "output_type": "stream",
     "text": [
      "313/313 - 1s - loss: 0.0711 - accuracy: 0.9780 - 597ms/epoch - 2ms/step\n",
      "\n",
      "Precisión en datos de prueba: 0.9779999852180481\n"
     ]
    }
   ],
   "source": [
    "\n",
    "# Evaluar la precisión del modelo en los datos de prueba\n",
    "test_loss, test_acc = model.evaluate(x_test, y_test, verbose=2)\n",
    "print('\\nPrecisión en datos de prueba:', test_acc)"
   ]
  },
  {
   "attachments": {},
   "cell_type": "markdown",
   "metadata": {},
   "source": [
    "**Aleatoriamente seleccionamos una imagen de las de prueba y la mostramos**"
   ]
  },
  {
   "cell_type": "code",
   "execution_count": 14,
   "metadata": {},
   "outputs": [
    {
     "data": {
      "image/png": "[encoded data removed]",
      "text/plain": [
       "<Figure size 432x288 with 1 Axes>"
      ]
     },
     "metadata": {
      "needs_background": "light"
     },
     "output_type": "display_data"
    }
   ],
   "source": [
    "\n",
    "# Generar una nueva imagen aleatoria para probar el modelo\n",
    "\n",
    "# Generamos un unero aleatorio entre el 0 y el 10000 que son los elementos de test\n",
    "index = random.randint(0, 10000)\n",
    "\n",
    "# seleccionamos ese elemento del dataset de test\n",
    "new_image = x_test[index]\n",
    "\n",
    "# Ploteamos el elemento\n",
    "new_image = np.array(new_image, dtype='float')\n",
    "pixels = new_image.reshape((28, 28))\n",
    "plt.imshow(pixels, cmap='gray')\n",
    "plt.show()\n"
   ]
  },
  {
   "attachments": {},
   "cell_type": "markdown",
   "metadata": {},
   "source": [
    "**Introducimos la imagen en el modelo y obtenemos el resultado**"
   ]
  },
  {
   "attachments": {},
   "cell_type": "markdown",
   "metadata": {},
   "source": [
    "La función **predict()** se utiliza para realizar una predicción de la salida de la red neuronal para un conjunto de datos de entrada. Los parámetros de entrada de la función son:\n",
    "\n",
    "**np.array([new_image]):** la nueva imagen que se desea clasificar en formato de matriz numpy. En este caso, se proporciona una sola imagen como entrada, que debe estar en el formato adecuado para la entrada del modelo, que en este caso es una matriz 2D con dimensiones (1, tamaño de entrada).\n",
    "\n",
    "La función **predict()** devuelve una matriz que representa las salidas de la red neuronal para las entradas proporcionadas en formato de matriz numpy.\n",
    "\n",
    "En resumen, **model.predict(np.array([new_image]))** utiliza el modelo de red neuronal previamente entrenado para predecir la clase de una nueva imagen proporcionada como entrada en formato de matriz numpy. La salida es una matriz que representa la salida de la red neuronal para la nueva imagen."
   ]
  },
  {
   "cell_type": "code",
   "execution_count": 15,
   "metadata": {},
   "outputs": [
    {
     "name": "stdout",
     "output_type": "stream",
     "text": [
      "1/1 [==============================] - 0s 249ms/step\n",
      "Predicción para la nueva imagen: 3\n"
     ]
    }
   ],
   "source": [
    "\n",
    "prediction = model.predict(np.array([new_image]))\n",
    "print('Predicción para la nueva imagen:', np.argmax(prediction))"
   ]
  }
 ],
 "metadata": {
  "kernelspec": {
   "display_name": "Python 3 (ipykernel)",
   "language": "python",
   "name": "python3"
  },
  "language_info": {
   "codemirror_mode": {
    "name": "ipython",
    "version": 3
   },
   "file_extension": ".py",
   "mimetype": "text/x-python",
   "name": "python",
   "nbconvert_exporter": "python",
   "pygments_lexer": "ipython3",
   "version": "3.9.13"
  },
  "vscode": {
   "interpreter": {
    "hash": "5de9ea968598f77146e9bcf7403aafc4990d0b8fd820669c1cc9c3a0b1879543"
   }
  }
 },
 "nbformat": 4,
 "nbformat_minor": 2
}
