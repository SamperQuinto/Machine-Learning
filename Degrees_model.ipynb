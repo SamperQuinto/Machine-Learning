{
 "cells": [
  {
   "attachments": {},
   "cell_type": "markdown",
   "metadata": {},
   "source": [
    "# Degrees model\n",
    "\n",
    "Here we develop a model to convert celsius degrees in fahrenheit degrees. The objetive behind this dummy model is to see how to implement different layers to our model and how effective those layers are. \n",
    "This results are useful to develop intuition and dig in how a neural network works and how machine learning is implemented."
   ]
  },
  {
   "cell_type": "code",
   "execution_count": 36,
   "metadata": {},
   "outputs": [],
   "source": [
    "# We import principal packages.\n",
    "import tensorflow as tf\n",
    "import numpy as np"
   ]
  },
  {
   "cell_type": "code",
   "execution_count": 37,
   "metadata": {},
   "outputs": [],
   "source": [
    "# We define the dataset we will use in the problem, in this case are two vectors\n",
    "# with inputs (celsius) and outputs (fahrenheit).\n",
    "celsius = np.array([-40,-10,0,8,15,22,38], dtype = float)\n",
    "fahrenheit = np.array([-40,14,32,46,59,72,100],dtype = float)"
   ]
  },
  {
   "cell_type": "code",
   "execution_count": 51,
   "metadata": {},
   "outputs": [],
   "source": [
    "# Remember that 'Dense' layers are those in which all neurons are interconnected.\n",
    "# In this case as we have only two neurons is a Dense layer.\n",
    "# We use Keras to indicate that output layer has a neuron throught 'units' command, \n",
    "# and we indicate that input layer has a neuron throught 'input_shape' command.\n",
    "capa = tf.keras.layers.Dense(units=1,input_shape=[1])\n",
    "\n",
    "# We use 'Sequential' model due to the simplicity of our problem.\n",
    "modelo = tf.keras.Sequential([capa])"
   ]
  },
  {
   "cell_type": "code",
   "execution_count": 53,
   "metadata": {},
   "outputs": [],
   "source": [
    "# We prepare model to execute.\n",
    "# We use Adam to adjust efficiently weights and bias, we indicate 0.1 as readjust rate\n",
    "# and MSE as loss function\n",
    "modelo.compile(\n",
    "    optimizer = tf.keras.optimizers.Adam(0.1), \n",
    "    loss = 'mean_squared_error'\n",
    ")"
   ]
  },
  {
   "cell_type": "code",
   "execution_count": 54,
   "metadata": {},
   "outputs": [
    {
     "name": "stdout",
     "output_type": "stream",
     "text": [
      "Starting training...\n",
      "Model trained!\n"
     ]
    }
   ],
   "source": [
    "# We train the model\n",
    "print(\"Starting training...\")\n",
    "historial = modelo.fit(celsius,fahrenheit, epochs=1000, verbose = False)\n",
    "print(\"Model trained!\")"
   ]
  },
  {
   "cell_type": "code",
   "execution_count": 60,
   "metadata": {},
   "outputs": [
    {
     "data": {
      "text/plain": [
       "[<matplotlib.lines.Line2D at 0x22c87bee760>]"
      ]
     },
     "execution_count": 60,
     "metadata": {},
     "output_type": "execute_result"
    },
    {
     "data": {
      "image/png": "[encoded data removed]",
      "text/plain": [
       "<Figure size 432x288 with 1 Axes>"
      ]
     },
     "metadata": {
      "needs_background": "light"
     },
     "output_type": "display_data"
    }
   ],
   "source": [
    "# Let's see the training results\n",
    "import matplotlib.pyplot as plt\n",
    "plt.xlabel(\"# Epoch\")\n",
    "plt.ylabel(\"Loss magnitude\")\n",
    "plt.plot(historial.history[\"loss\"])\n",
    "\n",
    "# We can see how with ~500 epochs could be enought"
   ]
  },
  {
   "cell_type": "code",
   "execution_count": 61,
   "metadata": {},
   "outputs": [
    {
     "name": "stdout",
     "output_type": "stream",
     "text": [
      "1/1 [==============================] - 0s 81ms/step\n",
      "246 celsius throught our model is [[474.2917]] fahrenheit\n"
     ]
    }
   ],
   "source": [
    "# Let's make a prediction\n",
    "import random \n",
    "temp_pred = random.randint(-40, 300)\n",
    "resultado = modelo.predict([temp_pred])\n",
    "print(str(temp_pred), 'celsius throught our model is',str(resultado),\"fahrenheit\")"
   ]
  },
  {
   "cell_type": "code",
   "execution_count": 62,
   "metadata": {},
   "outputs": [
    {
     "name": "stdout",
     "output_type": "stream",
     "text": [
      "Inner variables of model\n",
      "[array([[1.7982856]], dtype=float32), array([31.913418], dtype=float32)]\n"
     ]
    }
   ],
   "source": [
    "# Let's see how model assigned weights and bias \n",
    "print('Inner variables of model')\n",
    "print(capa.get_weights())"
   ]
  },
  {
   "cell_type": "code",
   "execution_count": 64,
   "metadata": {},
   "outputs": [],
   "source": [
    "# Now we add hidden layers to see how our model improve (or not).\n",
    "\n",
    "oculta1 = tf.keras.layers.Dense(units = 3, input_shape=[1])\n",
    "oculta2 = tf.keras.layers.Dense(units = 3)\n",
    "salida = tf.keras.layers.Dense(units = 1)\n",
    "modelo = tf.keras.Sequential([oculta1, oculta2, salida])"
   ]
  },
  {
   "cell_type": "code",
   "execution_count": 65,
   "metadata": {},
   "outputs": [
    {
     "name": "stdout",
     "output_type": "stream",
     "text": [
      "Starting training...\n",
      "Model trained!\n"
     ]
    }
   ],
   "source": [
    "modelo.compile(\n",
    "    optimizer = tf.keras.optimizers.Adam(0.1), \n",
    "    loss = 'mean_squared_error'\n",
    ")\n",
    "\n",
    "print(\"Starting training...\")\n",
    "historial = modelo.fit(celsius,fahrenheit, epochs=1000, verbose = False)\n",
    "print(\"Model trained!\")\n",
    "\n",
    "# Apreciate how the training time is higher"
   ]
  },
  {
   "cell_type": "code",
   "execution_count": 67,
   "metadata": {},
   "outputs": [
    {
     "data": {
      "text/plain": [
       "[<matplotlib.lines.Line2D at 0x22c85d5ba90>]"
      ]
     },
     "execution_count": 67,
     "metadata": {},
     "output_type": "execute_result"
    },
    {
     "data": {
      "image/png": "[encoded data removed]",
      "text/plain": [
       "<Figure size 432x288 with 1 Axes>"
      ]
     },
     "metadata": {
      "needs_background": "light"
     },
     "output_type": "display_data"
    }
   ],
   "source": [
    "import matplotlib.pyplot as plt\n",
    "plt.xlabel(\"# Epoch\")\n",
    "plt.ylabel(\"Loss magnitude\")\n",
    "plt.plot(historial.history[\"loss\"])\n",
    "\n",
    "# Here with only ~50 epochs we can see as it could be enought"
   ]
  },
  {
   "cell_type": "code",
   "execution_count": 68,
   "metadata": {},
   "outputs": [
    {
     "name": "stdout",
     "output_type": "stream",
     "text": [
      "1/1 [==============================] - 0s 159ms/step\n",
      "162 celsius throught our model is [[323.22028]] fahrenheit\n"
     ]
    }
   ],
   "source": [
    "import random \n",
    "temp_pred = random.randint(-40, 300)\n",
    "resultado = modelo.predict([temp_pred])\n",
    "print(str(temp_pred), 'celsius throught our model is',str(resultado),\"fahrenheit\")"
   ]
  }
 ],
 "metadata": {
  "kernelspec": {
   "display_name": "Python 3",
   "language": "python",
   "name": "python3"
  },
  "language_info": {
   "codemirror_mode": {
    "name": "ipython",
    "version": 3
   },
   "file_extension": ".py",
   "mimetype": "text/x-python",
   "name": "python",
   "nbconvert_exporter": "python",
   "pygments_lexer": "ipython3",
   "version": "3.9.13"
  },
  "orig_nbformat": 4
 },
 "nbformat": 4,
 "nbformat_minor": 2
}
